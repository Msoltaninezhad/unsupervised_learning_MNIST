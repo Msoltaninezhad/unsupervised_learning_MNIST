{
 "cells": [
  {
   "cell_type": "code",
   "execution_count": 1,
   "id": "9c12d482-e18d-4591-aa8f-5d5b68488768",
   "metadata": {},
   "outputs": [],
   "source": [
    "# Import necessary libraries\n",
    "import numpy as np\n",
    "import matplotlib.pyplot as plt\n",
    "from sklearn.datasets import fetch_openml\n",
    "from sklearn.svm import OneClassSVM\n",
    "from sklearn.preprocessing import StandardScaler\n",
    "from sklearn.decomposition import PCA\n",
    "from sklearn.metrics import accuracy_score, confusion_matrix\n",
    "import seaborn as sns\n",
    "import os\n",
    "os.environ[\"LOKY_MAX_CPU_COUNT\"] = \"-1\"  # Set to 1 or the desired number of cores"
   ]
  },
  {
   "cell_type": "code",
   "execution_count": 2,
   "id": "f2d78174-777b-485d-a294-7846445152ae",
   "metadata": {},
   "outputs": [
    {
     "name": "stdout",
     "output_type": "stream",
     "text": [
      "Shape of dataset: (70000, 784)\n"
     ]
    }
   ],
   "source": [
    "# Load the MNIST dataset\n",
    "mnist = fetch_openml('mnist_784', version=1)\n",
    "X = mnist.data.astype('float32') / 255.0  # Normalize the data between 0 and 1\n",
    "y = mnist.target.astype(int)  # Convert target to integer\n",
    "\n",
    "print(f\"Shape of dataset: {X.shape}\")"
   ]
  },
  {
   "cell_type": "code",
   "execution_count": 3,
   "id": "1cb75a4e-7804-4e42-8dea-042d49d1ac05",
   "metadata": {},
   "outputs": [],
   "source": [
    "# Standardize the data\n",
    "scaler = StandardScaler()\n",
    "X_scaled = scaler.fit_transform(X)\n"
   ]
  },
  {
   "cell_type": "code",
   "execution_count": 4,
   "id": "b77863da-4629-42af-ab32-3ed7686ee8c9",
   "metadata": {},
   "outputs": [
    {
     "name": "stdout",
     "output_type": "stream",
     "text": [
      "Shape after PCA: (70000, 50)\n"
     ]
    }
   ],
   "source": [
    "# Apply PCA to reduce the number of features (e.g., to 50 components)\n",
    "pca = PCA(n_components=50)\n",
    "X_pca = pca.fit_transform(X_scaled)\n",
    "\n",
    "print(f\"Shape after PCA: {X_pca.shape}\")\n"
   ]
  },
  {
   "cell_type": "code",
   "execution_count": null,
   "id": "59234ae7-f78d-4f08-9b1c-77d2036d4b43",
   "metadata": {},
   "outputs": [],
   "source": [
    "# Initialize the One-Class SVM\n",
    "oc_svm = OneClassSVM(kernel='rbf', gamma='auto', nu=0.1)\n",
    "\n",
    "# Train the model on the PCA-reduced data\n",
    "oc_svm.fit(X_pca)"
   ]
  },
  {
   "cell_type": "code",
   "execution_count": null,
   "id": "60b9b916-cf3a-4526-9131-155ec71a0066",
   "metadata": {},
   "outputs": [],
   "source": [
    "# Predict anomalies (-1 for anomaly, 1 for normal)\n",
    "predictions = oc_svm.predict(X_pca)\n",
    "\n",
    "# Map the predictions to binary (1 = anomaly, 0 = normal)\n",
    "predictions_binary = np.where(predictions == 1, 0, 1)  # 0 for normal, 1 for anomalies\n"
   ]
  },
  {
   "cell_type": "code",
   "execution_count": null,
   "id": "6635a5b4-6ed5-4308-aeba-094a5ee84992",
   "metadata": {},
   "outputs": [],
   "source": [
    "# Assume digit '0' is the normal class, everything else is treated as an anomaly\n",
    "y_true = np.where(y == 0, 0, 1)  # 0 for normal (digit 0), 1 for anomalies\n",
    "\n",
    "# Calculate accuracy\n",
    "accuracy = accuracy_score(y_true, predictions_binary)\n",
    "print(f\"Accuracy of One-Class SVM with PCA: {accuracy:.2f}\")\n",
    "\n",
    "# Confusion matrix\n",
    "conf_mat = confusion_matrix(y_true, predictions_binary)\n",
    "\n",
    "# Visualize the confusion matrix\n",
    "plt.figure(figsize=(8, 6))\n",
    "sns.heatmap(conf_mat, annot=True, fmt='d', cmap='viridis', xticklabels=['Normal', 'Anomaly'], yticklabels=['True Normal', 'True Anomaly'])\n",
    "plt.title('Confusion Matrix for One-Class SVM with PCA on MNIST')\n",
    "plt.xlabel('Predicted')\n",
    "plt.ylabel('Actual')\n",
    "plt.show()\n"
   ]
  },
  {
   "cell_type": "code",
   "execution_count": null,
   "id": "d995dad2-4108-464f-a505-e84329d90d8d",
   "metadata": {},
   "outputs": [],
   "source": [
    "# Get the indices of the anomalies\n",
    "anomaly_indices = np.where(predictions == -1)[0]\n",
    "\n",
    "# Convert X to NumPy for visualization\n",
    "X_np = X.to_numpy()\n",
    "\n",
    "# Visualize the first 10 anomalies\n",
    "plt.figure(figsize=(10, 5))\n",
    "for i, idx in enumerate(anomaly_indices[:10]):\n",
    "    plt.subplot(2, 5, i+1)\n",
    "    plt.imshow(X_np[idx].reshape(28, 28), cmap='gray')\n",
    "    plt.title(f\"Anomaly {i+1}\")\n",
    "    plt.axis('off')\n",
    "plt.tight_layout()\n",
    "plt.show()\n"
   ]
  }
 ],
 "metadata": {
  "kernelspec": {
   "display_name": "Python 3 (ipykernel)",
   "language": "python",
   "name": "python3"
  },
  "language_info": {
   "codemirror_mode": {
    "name": "ipython",
    "version": 3
   },
   "file_extension": ".py",
   "mimetype": "text/x-python",
   "name": "python",
   "nbconvert_exporter": "python",
   "pygments_lexer": "ipython3",
   "version": "3.12.6"
  }
 },
 "nbformat": 4,
 "nbformat_minor": 5
}
