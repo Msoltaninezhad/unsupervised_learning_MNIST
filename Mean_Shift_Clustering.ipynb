{
 "cells": [
  {
   "cell_type": "code",
   "execution_count": null,
   "id": "d42189ec-995c-4609-8ace-bb1b3bbdfa1e",
   "metadata": {},
   "outputs": [],
   "source": [
    "# Import necessary libraries\n",
    "import numpy as np\n",
    "import matplotlib.pyplot as plt\n",
    "from sklearn.datasets import fetch_openml\n",
    "from sklearn.preprocessing import StandardScaler\n",
    "from sklearn.decomposition import PCA\n",
    "from sklearn.cluster import MeanShift\n",
    "from sklearn.metrics import confusion_matrix\n",
    "import seaborn as sns\n",
    "import os\n",
    "os.environ['LOKY_MAX_CPU_COUNT'] = '-1'  # This restricts joblib to use only 1 core (adjust if necessary)\n"
   ]
  },
  {
   "cell_type": "code",
   "execution_count": null,
   "id": "7a22e7eb-9160-45f2-8366-39de126f997d",
   "metadata": {},
   "outputs": [],
   "source": [
    "# Load the MNIST dataset\n",
    "mnist = fetch_openml('mnist_784', version=1)\n",
    "X = mnist.data.astype('float32') / 255.0  # Normalize data to [0, 1]\n",
    "y = mnist.target.astype(int)  # Convert labels to integers\n",
    "\n",
    "# Standardize the data\n",
    "scaler = StandardScaler()\n",
    "X_scaled = scaler.fit_transform(X)\n"
   ]
  },
  {
   "cell_type": "code",
   "execution_count": null,
   "id": "419cd02b-e154-476a-8270-aa82c93d80df",
   "metadata": {},
   "outputs": [],
   "source": [
    "# Reduce dimensions with PCA (e.g., to 50 components)\n",
    "pca = PCA(n_components=50)\n",
    "X_pca = pca.fit_transform(X_scaled)\n",
    "\n",
    "print(f\"Shape after PCA reduction: {X_pca.shape}\")\n"
   ]
  },
  {
   "cell_type": "code",
   "execution_count": null,
   "id": "0a4321f4-71f3-4c53-b6e1-79dab508894e",
   "metadata": {},
   "outputs": [],
   "source": [
    "# Initialize Mean Shift Clustering model\n",
    "mean_shift = MeanShift()\n",
    "\n",
    "# Fit and predict cluster labels\n",
    "cluster_labels = mean_shift.fit_predict(X_pca)\n",
    "\n",
    "# Print unique cluster labels to see the distribution\n",
    "print(f\"Number of clusters: {len(np.unique(cluster_labels))}\")\n"
   ]
  },
  {
   "cell_type": "code",
   "execution_count": null,
   "id": "769b8528-7db8-48f7-945a-f3affaa81e3b",
   "metadata": {},
   "outputs": [],
   "source": [
    "# Create a confusion matrix to compare the true labels with the cluster labels\n",
    "conf_mat = confusion_matrix(y, cluster_labels)\n",
    "\n",
    "# Visualize the confusion matrix\n",
    "plt.figure(figsize=(10, 7))\n",
    "sns.heatmap(conf_mat, annot=True, fmt='d', cmap='viridis')\n",
    "plt.title('Confusion Matrix for Mean Shift Clustering on MNIST')\n",
    "plt.xlabel('Cluster Labels')\n",
    "plt.ylabel('True Labels')\n",
    "plt.show()\n"
   ]
  },
  {
   "cell_type": "code",
   "execution_count": null,
   "id": "313942ee-d77f-42f6-9253-c6f7168ab6f8",
   "metadata": {},
   "outputs": [],
   "source": [
    "# Create a confusion matrix to compare the true labels with the cluster labels\n",
    "conf_mat = confusion_matrix(y, cluster_labels)\n",
    "\n",
    "# Visualize the confusion matrix\n",
    "plt.figure(figsize=(10, 7))\n",
    "sns.heatmap(conf_mat, annot=True, fmt='d', cmap='viridis')\n",
    "plt.title('Confusion Matrix for Mean Shift Clustering on MNIST')\n",
    "plt.xlabel('Cluster Labels')\n",
    "plt.ylabel('True Labels')\n",
    "plt.show()\n"
   ]
  },
  {
   "cell_type": "code",
   "execution_count": null,
   "id": "4dac23a5-d655-4838-94ce-012cb34fc5a8",
   "metadata": {},
   "outputs": [],
   "source": [
    "# Reduce dataset to 2D using PCA\n",
    "pca_2d = PCA(n_components=2)\n",
    "X_2d = pca_2d.fit_transform(X_scaled)\n",
    "\n",
    "# Plot the clustering results in 2D\n",
    "plt.figure(figsize=(10, 7))\n",
    "sns.scatterplot(x=X_2d[:, 0], y=X_2d[:, 1], hue=cluster_labels, palette='tab10', s=10)\n",
    "plt.title('Mean Shift Clustering on MNIST (2D PCA Projection)')\n",
    "plt.xlabel('PCA Component 1')\n",
    "plt.ylabel('PCA Component 2')\n",
    "plt.show()\n"
   ]
  }
 ],
 "metadata": {
  "kernelspec": {
   "display_name": "Python 3 (ipykernel)",
   "language": "python",
   "name": "python3"
  },
  "language_info": {
   "codemirror_mode": {
    "name": "ipython",
    "version": 3
   },
   "file_extension": ".py",
   "mimetype": "text/x-python",
   "name": "python",
   "nbconvert_exporter": "python",
   "pygments_lexer": "ipython3",
   "version": "3.12.6"
  }
 },
 "nbformat": 4,
 "nbformat_minor": 5
}
