{
 "cells": [
  {
   "cell_type": "code",
   "execution_count": 1,
   "id": "231994a4-3303-4a05-a5a5-5c1c385d5e71",
   "metadata": {},
   "outputs": [],
   "source": [
    "# Import necessary libraries\n",
    "import numpy as np\n",
    "import matplotlib.pyplot as plt\n",
    "from sklearn.datasets import fetch_openml\n",
    "from sklearn.preprocessing import StandardScaler\n",
    "from sklearn.decomposition import PCA\n",
    "from sklearn.cluster import SpectralClustering\n",
    "from sklearn.metrics import confusion_matrix\n",
    "import seaborn as sns\n",
    "import os\n",
    "os.environ[\"LOKY_MAX_CPU_COUNT\"] = \"-1\"  # Set to 1 or the desired number of cores\n"
   ]
  },
  {
   "cell_type": "code",
   "execution_count": 2,
   "id": "dee35db3-8198-4a34-8c52-f3041bc521a7",
   "metadata": {},
   "outputs": [],
   "source": [
    "# Load the MNIST dataset\n",
    "mnist = fetch_openml('mnist_784', version=1)\n",
    "X = mnist.data.astype('float32') / 255.0  # Normalize data to [0, 1]\n",
    "y = mnist.target.astype(int)  # Convert labels to integers\n",
    "\n",
    "# Standardize the data\n",
    "scaler = StandardScaler()\n",
    "X_scaled = scaler.fit_transform(X)\n"
   ]
  },
  {
   "cell_type": "code",
   "execution_count": 3,
   "id": "a1aaeaa3-2a4f-4fa3-b454-74362a056c16",
   "metadata": {},
   "outputs": [
    {
     "name": "stdout",
     "output_type": "stream",
     "text": [
      "Shape after PCA reduction: (70000, 50)\n"
     ]
    }
   ],
   "source": [
    "# Reduce dimensions with PCA (e.g., to 50 components)\n",
    "pca = PCA(n_components=50)\n",
    "X_pca = pca.fit_transform(X_scaled)\n",
    "\n",
    "print(f\"Shape after PCA reduction: {X_pca.shape}\")\n"
   ]
  },
  {
   "cell_type": "code",
   "execution_count": null,
   "id": "60faa1e3-f512-4b41-9a90-f3d5c8c4765a",
   "metadata": {},
   "outputs": [],
   "source": [
    "# Initialize Spectral Clustering model with 10 clusters (for 10 digits)\n",
    "spectral_clust = SpectralClustering(n_clusters=10, affinity='nearest_neighbors', random_state=42)\n",
    "\n",
    "# Fit and predict cluster labels\n",
    "cluster_labels = spectral_clust.fit_predict(X_pca)\n",
    "\n",
    "# Print unique cluster labels to see the distribution\n",
    "print(f\"Cluster labels: {np.unique(cluster_labels)}\")\n"
   ]
  },
  {
   "cell_type": "code",
   "execution_count": null,
   "id": "ac0ad21b-0784-4910-8800-ba9a8f845aab",
   "metadata": {},
   "outputs": [],
   "source": [
    "# Create a confusion matrix to compare the true labels with the cluster labels\n",
    "conf_mat = confusion_matrix(y, cluster_labels)\n",
    "\n",
    "# Visualize the confusion matrix\n",
    "plt.figure(figsize=(10, 7))\n",
    "sns.heatmap(conf_mat, annot=True, fmt='d', cmap='viridis')\n",
    "plt.title('Confusion Matrix for Spectral Clustering on MNIST')\n",
    "plt.xlabel('Cluster Labels')\n",
    "plt.ylabel('True Labels')\n",
    "plt.show()\n"
   ]
  },
  {
   "cell_type": "code",
   "execution_count": null,
   "id": "6fb79b58-e779-43e5-a003-02b1020ce9d2",
   "metadata": {},
   "outputs": [],
   "source": [
    "# Reduce dataset to 2D using PCA\n",
    "pca_2d = PCA(n_components=2)\n",
    "X_2d = pca_2d.fit_transform(X_scaled)\n",
    "\n",
    "# Plot the clustering results in 2D\n",
    "plt.figure(figsize=(10, 7))\n",
    "sns.scatterplot(x=X_2d[:, 0], y=X_2d[:, 1], hue=cluster_labels, palette='tab10', s=10)\n",
    "plt.title('Spectral Clustering on MNIST (2D PCA Projection)')\n",
    "plt.xlabel('PCA Component 1')\n",
    "plt.ylabel('PCA Component 2')\n",
    "plt.show()\n"
   ]
  }
 ],
 "metadata": {
  "kernelspec": {
   "display_name": "Python 3 (ipykernel)",
   "language": "python",
   "name": "python3"
  },
  "language_info": {
   "codemirror_mode": {
    "name": "ipython",
    "version": 3
   },
   "file_extension": ".py",
   "mimetype": "text/x-python",
   "name": "python",
   "nbconvert_exporter": "python",
   "pygments_lexer": "ipython3",
   "version": "3.12.6"
  }
 },
 "nbformat": 4,
 "nbformat_minor": 5
}
