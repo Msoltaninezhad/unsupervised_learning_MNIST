{
 "cells": [
  {
   "cell_type": "code",
   "execution_count": 1,
   "id": "2a62f1ba-d3de-42c2-9881-28299e34f9f7",
   "metadata": {},
   "outputs": [
    {
     "name": "stdout",
     "output_type": "stream",
     "text": [
      "Collecting minisom\n",
      "  Downloading MiniSom-2.3.3.tar.gz (11 kB)\n",
      "  Preparing metadata (setup.py): started\n",
      "  Preparing metadata (setup.py): finished with status 'done'\n",
      "Building wheels for collected packages: minisom\n",
      "  Building wheel for minisom (setup.py): started\n",
      "  Building wheel for minisom (setup.py): finished with status 'done'\n",
      "  Created wheel for minisom: filename=MiniSom-2.3.3-py3-none-any.whl size=11720 sha256=15f4cd476e45028722509cd245baf378f10f172e5779b6bd06dbc4f9021ec19d\n",
      "  Stored in directory: c:\\users\\no34fic.fsujena\\appdata\\local\\pip\\cache\\wheels\\ec\\7e\\00\\ac334ebb21e9016a73bef195e9732606217c6894f96bd51e6f\n",
      "Successfully built minisom\n",
      "Installing collected packages: minisom\n",
      "Successfully installed minisom-2.3.3\n",
      "Note: you may need to restart the kernel to use updated packages.\n"
     ]
    }
   ],
   "source": [
    "pip install minisom\n"
   ]
  },
  {
   "cell_type": "code",
   "execution_count": 2,
   "id": "f8acfae7-132c-4afc-80c3-940750665e05",
   "metadata": {},
   "outputs": [],
   "source": [
    "# Import necessary libraries\n",
    "import numpy as np\n",
    "import matplotlib.pyplot as plt\n",
    "from sklearn.datasets import fetch_openml\n",
    "from sklearn.preprocessing import MinMaxScaler\n",
    "from minisom import MiniSom  # Import MiniSom for Self-Organizing Maps\n"
   ]
  },
  {
   "cell_type": "code",
   "execution_count": 3,
   "id": "d1ba3a1d-8118-4a10-a641-203756863b30",
   "metadata": {},
   "outputs": [
    {
     "name": "stdout",
     "output_type": "stream",
     "text": [
      "Shape of the dataset: (70000, 784)\n"
     ]
    }
   ],
   "source": [
    "# Load the MNIST dataset\n",
    "mnist = fetch_openml('mnist_784', version=1)\n",
    "X = mnist.data.astype('float32')  # Keep the original float values\n",
    "y = mnist.target.astype(int)  # Convert target to integer\n",
    "\n",
    "# Apply Min-Max Scaling to normalize the data to [0, 1]\n",
    "scaler = MinMaxScaler()\n",
    "X_scaled = scaler.fit_transform(X)\n",
    "\n",
    "print(f\"Shape of the dataset: {X_scaled.shape}\")\n"
   ]
  },
  {
   "cell_type": "code",
   "execution_count": null,
   "id": "f45cb15f-c2b8-458c-bdb2-e4bd9528ffff",
   "metadata": {},
   "outputs": [],
   "source": [
    "# Initialize SOM with grid dimensions (e.g., 20x20 grid) and input length equal to the number of features\n",
    "som = MiniSom(x=20, y=20, input_len=X_scaled.shape[1], sigma=1.0, learning_rate=0.5)\n",
    "\n",
    "# Initialize the SOM weights\n",
    "som.random_weights_init(X_scaled)\n",
    "\n",
    "# Train the SOM on the dataset for 10000 iterations\n",
    "som.train_random(X_scaled, 10000)\n",
    "\n",
    "print(\"SOM training completed.\")\n"
   ]
  },
  {
   "cell_type": "code",
   "execution_count": null,
   "id": "cb6f80d5-6159-4de5-9515-e52a670dc672",
   "metadata": {},
   "outputs": [],
   "source": [
    "# Plot the digits associated with each neuron in the SOM grid\n",
    "plt.figure(figsize=(10, 7))\n",
    "for i, x in enumerate(X_scaled):\n",
    "    # Get the winning neuron for each data point\n",
    "    w = som.winner(x)\n",
    "    plt.text(w[0], w[1], str(y[i]), color=plt.cm.rainbow(y[i] / 9), fontdict={'size': 8})\n",
    "\n",
    "plt.title('SOM MNIST Clustering Visualization')\n",
    "plt.show()\n"
   ]
  },
  {
   "cell_type": "code",
   "execution_count": null,
   "id": "86f3ab0f-902e-448b-99a6-bf768d96e65a",
   "metadata": {},
   "outputs": [],
   "source": [
    "# Count how many data points are mapped to each neuron\n",
    "mapped = np.zeros((20, 20))\n",
    "for x in X_scaled:\n",
    "    w = som.winner(x)\n",
    "    mapped[w] += 1\n",
    "\n",
    "# Visualize the neuron density map\n",
    "plt.figure(figsize=(10, 7))\n",
    "plt.imshow(mapped, cmap='coolwarm', interpolation='nearest')\n",
    "plt.colorbar(label='Number of Data Points')\n",
    "plt.title('SOM Neuron Density Map')\n",
    "plt.show()\n"
   ]
  },
  {
   "cell_type": "code",
   "execution_count": null,
   "id": "04a3054d-6716-4ffa-abb4-1992a3bdac62",
   "metadata": {},
   "outputs": [],
   "source": [
    "# Plot the weight map of the SOM neurons\n",
    "plt.figure(figsize=(10, 7))\n",
    "for i in range(20):\n",
    "    for j in range(20):\n",
    "        plt.subplot(20, 20, i*20+j+1)\n",
    "        plt.imshow(som.get_weights()[i, j].reshape(28, 28), cmap='gray')\n",
    "        plt.axis('off')\n",
    "\n",
    "plt.suptitle('SOM Weight Map')\n",
    "plt.show()\n"
   ]
  },
  {
   "cell_type": "code",
   "execution_count": null,
   "id": "0d2e6603-8a62-4227-a6a3-47fcf93c5d2a",
   "metadata": {},
   "outputs": [],
   "source": []
  }
 ],
 "metadata": {
  "kernelspec": {
   "display_name": "Python 3 (ipykernel)",
   "language": "python",
   "name": "python3"
  },
  "language_info": {
   "codemirror_mode": {
    "name": "ipython",
    "version": 3
   },
   "file_extension": ".py",
   "mimetype": "text/x-python",
   "name": "python",
   "nbconvert_exporter": "python",
   "pygments_lexer": "ipython3",
   "version": "3.12.6"
  }
 },
 "nbformat": 4,
 "nbformat_minor": 5
}
