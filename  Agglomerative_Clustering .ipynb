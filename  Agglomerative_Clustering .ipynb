{
 "cells": [
  {
   "cell_type": "code",
   "execution_count": 1,
   "id": "d06a63d2-d8f9-403b-9a18-6893a82ba253",
   "metadata": {},
   "outputs": [],
   "source": [
    "# Import necessary libraries\n",
    "import numpy as np\n",
    "import matplotlib.pyplot as plt\n",
    "from sklearn.datasets import fetch_openml\n",
    "from sklearn.preprocessing import StandardScaler\n",
    "from sklearn.decomposition import PCA\n",
    "from sklearn.cluster import AgglomerativeClustering\n",
    "from sklearn.metrics import confusion_matrix, accuracy_score\n",
    "import seaborn as sns\n"
   ]
  },
  {
   "cell_type": "code",
   "execution_count": 2,
   "id": "0d8bebb7-2261-4fc9-974d-57b00fc74ae1",
   "metadata": {},
   "outputs": [],
   "source": [
    "# Load the MNIST dataset\n",
    "mnist = fetch_openml('mnist_784', version=1)\n",
    "X = mnist.data.astype('float32') / 255.0  # Normalize data to [0, 1]\n",
    "y = mnist.target.astype(int)  # Convert labels to integers\n",
    "\n",
    "# Standardize the data\n",
    "scaler = StandardScaler()\n",
    "X_scaled = scaler.fit_transform(X)\n"
   ]
  },
  {
   "cell_type": "code",
   "execution_count": 3,
   "id": "fc89c90e-71d8-4925-963c-3fa8ded0d7c9",
   "metadata": {},
   "outputs": [
    {
     "name": "stdout",
     "output_type": "stream",
     "text": [
      "Shape after PCA reduction: (70000, 50)\n"
     ]
    }
   ],
   "source": [
    "# Reduce dimensions with PCA (e.g., to 50 components)\n",
    "pca = PCA(n_components=50)\n",
    "X_pca = pca.fit_transform(X_scaled)\n",
    "\n",
    "print(f\"Shape after PCA reduction: {X_pca.shape}\")\n"
   ]
  },
  {
   "cell_type": "code",
   "execution_count": null,
   "id": "c30a193f-21c9-4cc1-bc55-c751aa9353c7",
   "metadata": {},
   "outputs": [],
   "source": [
    "# Initialize Agglomerative Clustering model with 10 clusters (for 10 digits)\n",
    "agg_clust = AgglomerativeClustering(n_clusters=10, linkage='ward')\n",
    "\n",
    "# Fit and predict cluster labels\n",
    "cluster_labels = agg_clust.fit_predict(X_pca)\n",
    "\n",
    "# Print unique cluster labels to see the distribution\n",
    "print(f\"Cluster labels: {np.unique(cluster_labels)}\")\n"
   ]
  },
  {
   "cell_type": "code",
   "execution_count": null,
   "id": "ab041671-a722-4502-b307-7eaaf885698d",
   "metadata": {},
   "outputs": [],
   "source": [
    "# Create a confusion matrix to compare the true labels with the cluster labels\n",
    "conf_mat = confusion_matrix(y, cluster_labels)\n",
    "\n",
    "# Visualize the confusion matrix\n",
    "plt.figure(figsize=(10, 7))\n",
    "sns.heatmap(conf_mat, annot=True, fmt='d', cmap='viridis')\n",
    "plt.title('Confusion Matrix for Agglomerative Clustering on MNIST')\n",
    "plt.xlabel('Cluster Labels')\n",
    "plt.ylabel('True Labels')\n",
    "plt.show()\n"
   ]
  },
  {
   "cell_type": "code",
   "execution_count": null,
   "id": "a0cca1bf-04e6-4faf-93fb-5091944f0466",
   "metadata": {},
   "outputs": [],
   "source": [
    "# Reduce dataset to 2D using PCA\n",
    "pca_2d = PCA(n_components=2)\n",
    "X_2d = pca_2d.fit_transform(X_scaled)\n",
    "\n",
    "# Plot the clustering results in 2D\n",
    "plt.figure(figsize=(10, 7))\n",
    "sns.scatterplot(x=X_2d[:, 0], y=X_2d[:, 1], hue=cluster_labels, palette='tab10', s=10)\n",
    "plt.title('Agglomerative Clustering on MNIST (2D PCA Projection)')\n",
    "plt.xlabel('PCA Component 1')\n",
    "plt.ylabel('PCA Component 2')\n",
    "plt.show()\n"
   ]
  }
 ],
 "metadata": {
  "kernelspec": {
   "display_name": "Python 3 (ipykernel)",
   "language": "python",
   "name": "python3"
  },
  "language_info": {
   "codemirror_mode": {
    "name": "ipython",
    "version": 3
   },
   "file_extension": ".py",
   "mimetype": "text/x-python",
   "name": "python",
   "nbconvert_exporter": "python",
   "pygments_lexer": "ipython3",
   "version": "3.12.6"
  }
 },
 "nbformat": 4,
 "nbformat_minor": 5
}
